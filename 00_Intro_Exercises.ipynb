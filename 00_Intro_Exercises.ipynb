{
  "nbformat": 4,
  "nbformat_minor": 0,
  "metadata": {
    "colab": {
      "name": "00-Intro  Exercises.ipynb",
      "provenance": [],
      "collapsed_sections": [],
      "authorship_tag": "ABX9TyNBt9iyz/ItWYUnhKCDY6D0",
      "include_colab_link": true
    },
    "kernelspec": {
      "name": "python3",
      "display_name": "Python 3"
    }
  },
  "cells": [
    {
      "cell_type": "markdown",
      "metadata": {
        "id": "view-in-github",
        "colab_type": "text"
      },
      "source": [
        "<a href=\"https://colab.research.google.com/github/mikislin/summer20-Intro-python/blob/master/00_Intro_Exercises.ipynb\" target=\"_parent\"><img src=\"https://colab.research.google.com/assets/colab-badge.svg\" alt=\"Open In Colab\"/></a>"
      ]
    },
    {
      "cell_type": "markdown",
      "metadata": {
        "id": "xmOfzRf7U3GZ",
        "colab_type": "text"
      },
      "source": [
        "##**Problem 1:** \n",
        "**Swapping two vatiables** \n",
        "\n"
      ]
    },
    {
      "cell_type": "code",
      "metadata": {
        "id": "m5glF7dSUqJ3",
        "colab_type": "code",
        "colab": {}
      },
      "source": [
        "v1 = 'first string'\n",
        "v2 = 'second string'"
      ],
      "execution_count": 0,
      "outputs": []
    },
    {
      "cell_type": "code",
      "metadata": {
        "id": "U3lepPFYmgvR",
        "colab_type": "code",
        "colab": {}
      },
      "source": [
        ""
      ],
      "execution_count": 0,
      "outputs": []
    },
    {
      "cell_type": "code",
      "metadata": {
        "id": "NgKRiNo3prJz",
        "colab_type": "code",
        "colab": {}
      },
      "source": [
        ""
      ],
      "execution_count": 0,
      "outputs": []
    },
    {
      "cell_type": "code",
      "metadata": {
        "id": "16mHbpJSqL29",
        "colab_type": "code",
        "colab": {}
      },
      "source": [
        ""
      ],
      "execution_count": 0,
      "outputs": []
    },
    {
      "cell_type": "code",
      "metadata": {
        "id": "vQQ9Qytjqis5",
        "colab_type": "code",
        "colab": {}
      },
      "source": [
        ""
      ],
      "execution_count": 0,
      "outputs": []
    },
    {
      "cell_type": "markdown",
      "metadata": {
        "id": "sWaa5YkVbdRD",
        "colab_type": "text"
      },
      "source": [
        "##**Problem 2:**\n",
        "**km to mile**\n",
        "\n",
        "convert user entered kilometers to miles and display it\n",
        "\n",
        "*Hint: 1 kilometer is equal to 0.621371 miles*"
      ]
    },
    {
      "cell_type": "code",
      "metadata": {
        "id": "3A0375R7b1Ab",
        "colab_type": "code",
        "colab": {}
      },
      "source": [
        ""
      ],
      "execution_count": 0,
      "outputs": []
    },
    {
      "cell_type": "markdown",
      "metadata": {
        "id": "fHDWa7-VrZ0R",
        "colab_type": "text"
      },
      "source": [
        "##**Problem 3:**\n",
        "**String formatting**\n",
        "\n",
        "In this problem we will practice some basics with displaying and formatting strings.\n"
      ]
    },
    {
      "cell_type": "markdown",
      "metadata": {
        "id": "ivcMwMhItz9r",
        "colab_type": "text"
      },
      "source": [
        "**(a)** Write code to determine the number of characters in a string called input_string, and store that value in a variable called num_chars.\n",
        "\n",
        "Hint: You can get the length of a Python object using the function len()."
      ]
    },
    {
      "cell_type": "code",
      "metadata": {
        "id": "pi4gNeAmtNNU",
        "colab_type": "code",
        "colab": {}
      },
      "source": [
        ""
      ],
      "execution_count": 0,
      "outputs": []
    },
    {
      "cell_type": "markdown",
      "metadata": {
        "id": "X48Heqn4Xi4Y",
        "colab_type": "text"
      },
      "source": [
        "**(b)** Create a program that asks the user to enter their name and their age. Print out a message addressed to them that tells them the year that they will turn 100 years old"
      ]
    },
    {
      "cell_type": "code",
      "metadata": {
        "id": "obWcLT_lufCh",
        "colab_type": "code",
        "colab": {}
      },
      "source": [
        ""
      ],
      "execution_count": 0,
      "outputs": []
    },
    {
      "cell_type": "markdown",
      "metadata": {
        "id": "W-Q6MEwYdNWo",
        "colab_type": "text"
      },
      "source": [
        "**(c)** Often in scientific analysis we want to inspect numbers, by printing them out as strings. String formatting allows us to print out numbers that look pretty.\n",
        "\n",
        "To format a number, the placeholder in the template string looks like, for example, \"{var:.2f}\" where var is the variable name, and .2f indicates a number with 2 digits after the decimal point.\n",
        "\n",
        "Define a variable storing a number of your choosing, and print it out with (i) 0, (ii) 5, and (iii) 10 digits after the decimal point."
      ]
    },
    {
      "cell_type": "code",
      "metadata": {
        "id": "9rQ3ssEEdegt",
        "colab_type": "code",
        "colab": {}
      },
      "source": [
        "# print out a variable with different numbers of digits after the decimal point\n"
      ],
      "execution_count": 0,
      "outputs": []
    },
    {
      "cell_type": "markdown",
      "metadata": {
        "id": "Pr7_Phv6n0po",
        "colab_type": "text"
      },
      "source": [
        "## Problem 4:\n",
        "**File name parsing** \n",
        "\n",
        "In this problem we will use string analysis to parse file names. This is a useful thing to know how to do!"
      ]
    },
    {
      "cell_type": "markdown",
      "metadata": {
        "id": "xIMB5QpPqkdB",
        "colab_type": "text"
      },
      "source": [
        "**(a)** given a variable called file_name storing the name of a file, determine whether the file is a csv file, by checking whether the substring 'csv' is contained in it. Store the result in a variable called is_csv_file\n",
        "\n",
        "Python can tell us whether any given word/substring exists inside a string.\n",
        "\n",
        "For example, 'at' in 'math' evaluates to True. But 'nat' in 'math' evaluates to False.\n",
        "\n"
      ]
    },
    {
      "cell_type": "code",
      "metadata": {
        "id": "DaQBQH8GXzoj",
        "colab_type": "code",
        "colab": {}
      },
      "source": [
        "file_name = 'my_file.csv'\n",
        "\n",
        "# determine whether file_name is a csv file, and store result in is_csv_file\n"
      ],
      "execution_count": 0,
      "outputs": []
    },
    {
      "cell_type": "markdown",
      "metadata": {
        "id": "259NYv1arth6",
        "colab_type": "text"
      },
      "source": [
        "(b) Determine whether file_name ends with .csv, and store the result in is_csv_file.\n",
        "\n",
        "Hint: recall that a==b determines whether a is the same as b."
      ]
    },
    {
      "cell_type": "code",
      "metadata": {
        "id": "kDsNtYfUdwPH",
        "colab_type": "code",
        "colab": {}
      },
      "source": [
        ""
      ],
      "execution_count": 0,
      "outputs": []
    },
    {
      "cell_type": "markdown",
      "metadata": {
        "id": "rDgNLO53tFg8",
        "colab_type": "text"
      },
      "source": [
        "**(c)** Given two variables file_name and new_extension, create a variable new_file_name in which you change the extension of the original file name to the new extension.\n",
        "\n",
        "For example, if file_name is a_file_name.csv and new_extension is mat, then new_file_name should be a_file_name.mat.\n",
        "\n",
        "Hint: you can, but do not need to, use the string method .replace()."
      ]
    },
    {
      "cell_type": "code",
      "metadata": {
        "id": "cs1b4WkfsSJ4",
        "colab_type": "code",
        "colab": {}
      },
      "source": [
        ""
      ],
      "execution_count": 0,
      "outputs": []
    }
  ]
}
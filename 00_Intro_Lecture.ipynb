{
  "nbformat": 4,
  "nbformat_minor": 0,
  "metadata": {
    "colab": {
      "name": "00-Intro Lecture.ipynb",
      "provenance": [],
      "collapsed_sections": [],
      "include_colab_link": true
    },
    "kernelspec": {
      "name": "python3",
      "display_name": "Python 3"
    }
  },
  "cells": [
    {
      "cell_type": "markdown",
      "metadata": {
        "id": "view-in-github",
        "colab_type": "text"
      },
      "source": [
        "<a href=\"https://colab.research.google.com/github/mikislin/summer20-Intro-python/blob/master/00_Intro_Lecture.ipynb\" target=\"_parent\"><img src=\"https://colab.research.google.com/assets/colab-badge.svg\" alt=\"Open In Colab\"/></a>"
      ]
    },
    {
      "cell_type": "markdown",
      "metadata": {
        "id": "l1VH0qN3A-v5",
        "colab_type": "text"
      },
      "source": [
        "## Print statement "
      ]
    },
    {
      "cell_type": "markdown",
      "metadata": {
        "id": "HQNuKzdi-8uO",
        "colab_type": "text"
      },
      "source": [
        "##### print \"Hello, world!\" using print function\n",
        "\n",
        "to learn what function does use help\n",
        "SHIFT+ TAB or print?\n",
        "\n",
        "On Colab, for SHIFT+ TAB to work, you have to disable Automatically trigger code completions on Tools->Settings.\n",
        "\n",
        "All Shortcuts can be found using CTRL + MH or going to Tools->Keyboard Shortcuts\n",
        "\n"
      ]
    },
    {
      "cell_type": "code",
      "metadata": {
        "id": "Jufk5zvA_0ty",
        "colab_type": "code",
        "outputId": "796c4f39-5fab-40e5-ae6e-3030613da0fd",
        "colab": {
          "base_uri": "https://localhost:8080/",
          "height": 35
        }
      },
      "source": [
        "print(\"Hello, world!\")"
      ],
      "execution_count": 0,
      "outputs": [
        {
          "output_type": "stream",
          "text": [
            "Hello, world!\n"
          ],
          "name": "stdout"
        }
      ]
    },
    {
      "cell_type": "code",
      "metadata": {
        "id": "-KHxg7xfJ8kD",
        "colab_type": "code",
        "outputId": "68ab0d4d-b687-4e23-80bd-ca4cd48ba5a1",
        "colab": {
          "base_uri": "https://localhost:8080/",
          "height": 87
        }
      },
      "source": [
        "print('/__|')\n",
        "print('  /|')\n",
        "print(' / |')\n",
        "print('/  |')"
      ],
      "execution_count": 0,
      "outputs": [
        {
          "output_type": "stream",
          "text": [
            "/__|\n",
            "  /|\n",
            " / |\n",
            "/  |\n"
          ],
          "name": "stdout"
        }
      ]
    },
    {
      "cell_type": "code",
      "metadata": {
        "id": "OnwcgbwiEZwf",
        "colab_type": "code",
        "outputId": "e7064fd1-b4f4-48cf-bce1-3389eb307d3a",
        "colab": {
          "base_uri": "https://localhost:8080/",
          "height": 35
        }
      },
      "source": [
        "print(5,10,15)"
      ],
      "execution_count": 0,
      "outputs": [
        {
          "output_type": "stream",
          "text": [
            "5 10 15\n"
          ],
          "name": "stdout"
        }
      ]
    },
    {
      "cell_type": "code",
      "metadata": {
        "id": "XsF_BlkaJ8EX",
        "colab_type": "code",
        "outputId": "4b2184d4-adad-4b80-d154-5260176617d2",
        "colab": {
          "base_uri": "https://localhost:8080/",
          "height": 140
        }
      },
      "source": [
        "print(\"Sunday\\nMonday\\nTuesday\\nWednesday\\nThursday\\nFriday\\nSaturday\")"
      ],
      "execution_count": 0,
      "outputs": [
        {
          "output_type": "stream",
          "text": [
            "Sunday\n",
            "Monday\n",
            "Tuesday\n",
            "Wednesday\n",
            "Thursday\n",
            "Friday\n",
            "Saturday\n"
          ],
          "name": "stdout"
        }
      ]
    },
    {
      "cell_type": "code",
      "metadata": {
        "id": "XBHR0afp_09a",
        "colab_type": "code",
        "outputId": "a4a75087-c54e-40e0-ee34-ba7eed9239e0",
        "colab": {
          "base_uri": "https://localhost:8080/",
          "height": 152
        }
      },
      "source": [
        "print('C:\\User\\name')  # here \\n means newline!"
      ],
      "execution_count": 0,
      "outputs": [
        {
          "output_type": "error",
          "ename": "SyntaxError",
          "evalue": "ignored",
          "traceback": [
            "\u001b[0;36m  File \u001b[0;32m\"<ipython-input-36-07002ad6e346>\"\u001b[0;36m, line \u001b[0;32m1\u001b[0m\n\u001b[0;31m    print('C:\\User\\name')  # here \\n means newline!\u001b[0m\n\u001b[0m         ^\u001b[0m\n\u001b[0;31mSyntaxError\u001b[0m\u001b[0;31m:\u001b[0m (unicode error) 'unicodeescape' codec can't decode bytes in position 2-3: truncated \\UXXXXXXXX escape\n"
          ]
        }
      ]
    },
    {
      "cell_type": "code",
      "metadata": {
        "id": "bWAyf16kATA3",
        "colab_type": "code",
        "outputId": "6dc333ad-b411-452a-a743-e33dc1638708",
        "colab": {
          "base_uri": "https://localhost:8080/",
          "height": 35
        }
      },
      "source": [
        "# you can use raw strings by adding an r before the first quote\n",
        "print(r'C:\\User\\name') "
      ],
      "execution_count": 0,
      "outputs": [
        {
          "output_type": "stream",
          "text": [
            "C:\\User\\name\n"
          ],
          "name": "stdout"
        }
      ]
    },
    {
      "cell_type": "code",
      "metadata": {
        "id": "dB7FWSeaACyy",
        "colab_type": "code",
        "outputId": "e65aa855-d608-4128-c5c3-87396679e0d6",
        "colab": {
          "base_uri": "https://localhost:8080/",
          "height": 52
        }
      },
      "source": [
        "# triple quotes are generally used for multi-line strings\n",
        "print(\"\"\"Python is very popular language.\n",
        "It is also friendly language.\"\"\")"
      ],
      "execution_count": 0,
      "outputs": [
        {
          "output_type": "stream",
          "text": [
            "Python is very popular language.\n",
            "It is also friendly language.\n"
          ],
          "name": "stdout"
        }
      ]
    },
    {
      "cell_type": "code",
      "metadata": {
        "id": "ggngcknEIwiq",
        "colab_type": "code",
        "outputId": "c1b53eb7-3296-4fd4-bc68-2add84c88a13",
        "colab": {
          "base_uri": "https://localhost:8080/",
          "height": 35
        }
      },
      "source": [
        "print(\"Welcome to Python %s\" %'language')"
      ],
      "execution_count": 0,
      "outputs": [
        {
          "output_type": "stream",
          "text": [
            "Welcome to Python language\n"
          ],
          "name": "stdout"
        }
      ]
    },
    {
      "cell_type": "markdown",
      "metadata": {
        "id": "gGmRb9LgHO8g",
        "colab_type": "text"
      },
      "source": [
        "#####Similarly, when using other data types\n",
        "\n",
        "  %d -> Integer\n",
        "\n",
        "  %e -> exponential\n",
        "\n",
        "  %f -> Float\n",
        "\n",
        "  %o -> Octal\n",
        "\n",
        "  %x -> Hexadecimal\n",
        "\n",
        "This can be used for conversions inside the print statement itself."
      ]
    },
    {
      "cell_type": "code",
      "metadata": {
        "id": "HxUQdM_rFp3N",
        "colab_type": "code",
        "outputId": "ea6714be-5a85-41e8-9023-bcdba6896a50",
        "colab": {
          "base_uri": "https://localhost:8080/",
          "height": 35
        }
      },
      "source": [
        "print(\"Actual Number = %d\" %15)"
      ],
      "execution_count": 0,
      "outputs": [
        {
          "output_type": "stream",
          "text": [
            "Actual Number = 15\n"
          ],
          "name": "stdout"
        }
      ]
    },
    {
      "cell_type": "code",
      "metadata": {
        "id": "WUcUbaqrH2FV",
        "colab_type": "code",
        "outputId": "52de4339-cb20-4910-d063-7da1e0187125",
        "colab": {
          "base_uri": "https://localhost:8080/",
          "height": 35
        }
      },
      "source": [
        "print(\"Exponential equivalent of the number = %e\" %15)"
      ],
      "execution_count": 0,
      "outputs": [
        {
          "output_type": "stream",
          "text": [
            "Exponential equivalent of the number = 1.500000e+01\n"
          ],
          "name": "stdout"
        }
      ]
    },
    {
      "cell_type": "code",
      "metadata": {
        "id": "SyPViAitH_pa",
        "colab_type": "code",
        "outputId": "57174fb1-ad68-4f7d-dae1-63e0c40cf298",
        "colab": {
          "base_uri": "https://localhost:8080/",
          "height": 35
        }
      },
      "source": [
        "print(\"Float of the number = %f\" %15)"
      ],
      "execution_count": 0,
      "outputs": [
        {
          "output_type": "stream",
          "text": [
            "Float of the number = 15.000000\n"
          ],
          "name": "stdout"
        }
      ]
    },
    {
      "cell_type": "code",
      "metadata": {
        "id": "3A9soZbWIEDr",
        "colab_type": "code",
        "outputId": "689969b7-534b-460f-ce7a-aeb17796bfbc",
        "colab": {
          "base_uri": "https://localhost:8080/",
          "height": 35
        }
      },
      "source": [
        "print(\"Octal equivalent of the number = %o\" %15)"
      ],
      "execution_count": 0,
      "outputs": [
        {
          "output_type": "stream",
          "text": [
            "Octal equivalent of the number = 17\n"
          ],
          "name": "stdout"
        }
      ]
    },
    {
      "cell_type": "code",
      "metadata": {
        "id": "ImenLzHuIK6W",
        "colab_type": "code",
        "outputId": "2fc328af-588b-4be9-cd5d-4f00219312af",
        "colab": {
          "base_uri": "https://localhost:8080/",
          "height": 35
        }
      },
      "source": [
        "print(\"Hexadecimal equivalent of the number = %x\" %15)"
      ],
      "execution_count": 0,
      "outputs": [
        {
          "output_type": "stream",
          "text": [
            "Hexadecimal equivalent of the number = f\n"
          ],
          "name": "stdout"
        }
      ]
    },
    {
      "cell_type": "code",
      "metadata": {
        "id": "kjbfWVULIP3_",
        "colab_type": "code",
        "outputId": "c0fc773c-d34d-4ca7-c09d-a3eca6358aa9",
        "colab": {
          "base_uri": "https://localhost:8080/",
          "height": 35
        }
      },
      "source": [
        "print(\"%f\" % 7.123456789)"
      ],
      "execution_count": 0,
      "outputs": [
        {
          "output_type": "stream",
          "text": [
            "7.123457\n"
          ],
          "name": "stdout"
        }
      ]
    },
    {
      "cell_type": "code",
      "metadata": {
        "id": "rTwi98jMK5lP",
        "colab_type": "code",
        "outputId": "16ee1d29-920a-4a17-a646-5a90f79fd92e",
        "colab": {
          "base_uri": "https://localhost:8080/",
          "height": 35
        }
      },
      "source": [
        "print(\"%5f\" % 7.123456789)"
      ],
      "execution_count": 0,
      "outputs": [
        {
          "output_type": "stream",
          "text": [
            "7.123457\n"
          ],
          "name": "stdout"
        }
      ]
    },
    {
      "cell_type": "markdown",
      "metadata": {
        "id": "bJI1UZYmAuaX",
        "colab_type": "text"
      },
      "source": [
        "## Using Python as a Calculator"
      ]
    },
    {
      "cell_type": "markdown",
      "metadata": {
        "id": "tzgdtZc18NwD",
        "colab_type": "text"
      },
      "source": [
        "The interpreter acts as a simple calculator: you can type an expression at it and it will write the value. Expression syntax is straightforward: the operators +, -, * and / work just like in most other languages (for example, Pascal or C); parentheses (()) can be used for grouping."
      ]
    },
    {
      "cell_type": "code",
      "metadata": {
        "id": "nUsxaHQD8t4D",
        "colab_type": "code",
        "outputId": "429f5975-c10f-4808-c52d-cfdc0f130515",
        "colab": {
          "base_uri": "https://localhost:8080/",
          "height": 35
        }
      },
      "source": [
        "2+2"
      ],
      "execution_count": 0,
      "outputs": [
        {
          "output_type": "execute_result",
          "data": {
            "text/plain": [
              "4"
            ]
          },
          "metadata": {
            "tags": []
          },
          "execution_count": 47
        }
      ]
    },
    {
      "cell_type": "code",
      "metadata": {
        "id": "ju3ya-YX8zjZ",
        "colab_type": "code",
        "outputId": "e718b880-8e7f-4638-ec92-1dd92276192f",
        "colab": {
          "base_uri": "https://localhost:8080/",
          "height": 35
        }
      },
      "source": [
        "20 - 2*6"
      ],
      "execution_count": 0,
      "outputs": [
        {
          "output_type": "execute_result",
          "data": {
            "text/plain": [
              "8"
            ]
          },
          "metadata": {
            "tags": []
          },
          "execution_count": 48
        }
      ]
    },
    {
      "cell_type": "code",
      "metadata": {
        "id": "M1jLntC78-34",
        "colab_type": "code",
        "outputId": "816cab75-2e6a-4427-eba1-380d16542bd5",
        "colab": {
          "base_uri": "https://localhost:8080/",
          "height": 35
        }
      },
      "source": [
        "20 - 2*6/4"
      ],
      "execution_count": 0,
      "outputs": [
        {
          "output_type": "execute_result",
          "data": {
            "text/plain": [
              "17.0"
            ]
          },
          "metadata": {
            "tags": []
          },
          "execution_count": 49
        }
      ]
    },
    {
      "cell_type": "code",
      "metadata": {
        "id": "zh4a8ZF89GGH",
        "colab_type": "code",
        "outputId": "7c362695-40ad-4b40-8dfc-da867c9e58b4",
        "colab": {
          "base_uri": "https://localhost:8080/",
          "height": 35
        }
      },
      "source": [
        "(20 - 2*6)/4"
      ],
      "execution_count": 0,
      "outputs": [
        {
          "output_type": "execute_result",
          "data": {
            "text/plain": [
              "2.0"
            ]
          },
          "metadata": {
            "tags": []
          },
          "execution_count": 50
        }
      ]
    },
    {
      "cell_type": "markdown",
      "metadata": {
        "id": "il-C9pX09WVW",
        "colab_type": "text"
      },
      "source": [
        "Division (/) always returns a float. To do floor division and get an integer result (discarding any fractional result) you can use the // operator; to calculate the remainder you can use %"
      ]
    },
    {
      "cell_type": "code",
      "metadata": {
        "id": "5wi5yVW89lmC",
        "colab_type": "code",
        "colab": {}
      },
      "source": [
        " # result * divisor + remainder"
      ],
      "execution_count": 0,
      "outputs": []
    },
    {
      "cell_type": "markdown",
      "metadata": {
        "id": "d-y_xu8T9u_A",
        "colab_type": "text"
      },
      "source": [
        "With Python, it is possible to use the ** operator to calculate powers"
      ]
    },
    {
      "cell_type": "code",
      "metadata": {
        "id": "pMrSK6xD9ui3",
        "colab_type": "code",
        "outputId": "4fca7c43-3419-411c-8e89-81280c34d310",
        "colab": {
          "base_uri": "https://localhost:8080/",
          "height": 35
        }
      },
      "source": [
        "5**2"
      ],
      "execution_count": 0,
      "outputs": [
        {
          "output_type": "execute_result",
          "data": {
            "text/plain": [
              "25"
            ]
          },
          "metadata": {
            "tags": []
          },
          "execution_count": 52
        }
      ]
    },
    {
      "cell_type": "code",
      "metadata": {
        "id": "z06hQI_Q9_fT",
        "colab_type": "code",
        "outputId": "d812f689-ca9e-4ece-aaeb-56c68a515630",
        "colab": {
          "base_uri": "https://localhost:8080/",
          "height": 35
        }
      },
      "source": [
        "5**0.5"
      ],
      "execution_count": 0,
      "outputs": [
        {
          "output_type": "execute_result",
          "data": {
            "text/plain": [
              "2.23606797749979"
            ]
          },
          "metadata": {
            "tags": []
          },
          "execution_count": 53
        }
      ]
    },
    {
      "cell_type": "code",
      "metadata": {
        "id": "bHRMIBRJ-Dxx",
        "colab_type": "code",
        "outputId": "09aa729c-ad26-47ea-a105-991a1f8a3f52",
        "colab": {
          "base_uri": "https://localhost:8080/",
          "height": 35
        }
      },
      "source": [
        "5**2**4 # reading from right to left "
      ],
      "execution_count": 0,
      "outputs": [
        {
          "output_type": "execute_result",
          "data": {
            "text/plain": [
              "152587890625"
            ]
          },
          "metadata": {
            "tags": []
          },
          "execution_count": 55
        }
      ]
    },
    {
      "cell_type": "code",
      "metadata": {
        "id": "bO9E6R1DFaB_",
        "colab_type": "code",
        "outputId": "db13bee0-eebf-436d-d4c6-fe9ae0cde519",
        "colab": {
          "base_uri": "https://localhost:8080/",
          "height": 35
        }
      },
      "source": [
        "(5**2)**4"
      ],
      "execution_count": 0,
      "outputs": [
        {
          "output_type": "execute_result",
          "data": {
            "text/plain": [
              "390625"
            ]
          },
          "metadata": {
            "tags": []
          },
          "execution_count": 62
        }
      ]
    },
    {
      "cell_type": "code",
      "metadata": {
        "id": "q2d8knKxFKUa",
        "colab_type": "code",
        "outputId": "5bebd51b-ef15-48b5-cd53-392a381fb55f",
        "colab": {
          "base_uri": "https://localhost:8080/",
          "height": 35
        }
      },
      "source": [
        "5/(2*10)"
      ],
      "execution_count": 0,
      "outputs": [
        {
          "output_type": "execute_result",
          "data": {
            "text/plain": [
              "0.25"
            ]
          },
          "metadata": {
            "tags": []
          },
          "execution_count": 57
        }
      ]
    },
    {
      "cell_type": "markdown",
      "metadata": {
        "id": "PRlJVO_fFsyn",
        "colab_type": "text"
      },
      "source": [
        "##Variables"
      ]
    },
    {
      "cell_type": "markdown",
      "metadata": {
        "id": "IxRVsL9RL_9U",
        "colab_type": "text"
      },
      "source": [
        "#####Python Assignment Statements\n",
        "\n",
        "**Syntax:**\n",
        "\n",
        "\n",
        "```\n",
        "<variable> = <expr>\n",
        "```\n",
        "\n"
      ]
    },
    {
      "cell_type": "code",
      "metadata": {
        "id": "aRGeL1EVMZLr",
        "colab_type": "code",
        "outputId": "a0a8dde7-b5fd-4a9f-ca19-1885f3ba3148",
        "colab": {
          "base_uri": "https://localhost:8080/",
          "height": 35
        }
      },
      "source": [
        "x = 'Hello world!'\n",
        "print(x)"
      ],
      "execution_count": 0,
      "outputs": [
        {
          "output_type": "stream",
          "text": [
            "Hello world!\n"
          ],
          "name": "stdout"
        }
      ]
    },
    {
      "cell_type": "markdown",
      "metadata": {
        "id": "4ssYhmpTF4IU",
        "colab_type": "text"
      },
      "source": [
        "Strings can be assigned to variable say string1 and string2 which can called when using the print statement."
      ]
    },
    {
      "cell_type": "code",
      "metadata": {
        "id": "VBoT3U-GFqzG",
        "colab_type": "code",
        "outputId": "8f6a68a8-dcc3-400b-c97d-6f5ea15e0530",
        "colab": {
          "base_uri": "https://localhost:8080/",
          "height": 35
        }
      },
      "source": [
        "str1 = 'Welcome'\n",
        "str2 = 'world!'\n",
        "print(str1, str2)"
      ],
      "execution_count": 0,
      "outputs": [
        {
          "output_type": "stream",
          "text": [
            "Welcome world!\n"
          ],
          "name": "stdout"
        }
      ]
    },
    {
      "cell_type": "code",
      "metadata": {
        "id": "pxM0OyYRMyzd",
        "colab_type": "code",
        "outputId": "763f3c15-6049-4dda-fa23-8e17ee2dbaee",
        "colab": {
          "base_uri": "https://localhost:8080/",
          "height": 132
        }
      },
      "source": [
        "x = 15\n",
        "15 = x"
      ],
      "execution_count": 0,
      "outputs": [
        {
          "output_type": "error",
          "ename": "SyntaxError",
          "evalue": "ignored",
          "traceback": [
            "\u001b[0;36m  File \u001b[0;32m\"<ipython-input-29-1c7c1b3edc09>\"\u001b[0;36m, line \u001b[0;32m2\u001b[0m\n\u001b[0;31m    15 = x\u001b[0m\n\u001b[0m          ^\u001b[0m\n\u001b[0;31mSyntaxError\u001b[0m\u001b[0;31m:\u001b[0m can't assign to literal\n"
          ]
        }
      ]
    },
    {
      "cell_type": "markdown",
      "metadata": {
        "id": "4lwaMYTqNJ5Q",
        "colab_type": "text"
      },
      "source": [
        "#####Multiple Assignment\n",
        "\n",
        "**Syntax:**\n",
        "\n",
        "\n",
        "```\n",
        "var1=var2=var3...varn= = <expr>\n",
        "```\n",
        "\n"
      ]
    },
    {
      "cell_type": "code",
      "metadata": {
        "id": "hZurQ9EuNFOY",
        "colab_type": "code",
        "colab": {}
      },
      "source": [
        "x = y = z = 0"
      ],
      "execution_count": 0,
      "outputs": []
    },
    {
      "cell_type": "code",
      "metadata": {
        "id": "DvhYNoeNNeZI",
        "colab_type": "code",
        "outputId": "669193ad-d803-4dbe-9482-b6cbf91ecb86",
        "colab": {
          "base_uri": "https://localhost:8080/",
          "height": 70
        }
      },
      "source": [
        "print(x)\n",
        "print(y)\n",
        "print(z)"
      ],
      "execution_count": 0,
      "outputs": [
        {
          "output_type": "stream",
          "text": [
            "0\n",
            "0\n",
            "0\n"
          ],
          "name": "stdout"
        }
      ]
    },
    {
      "cell_type": "markdown",
      "metadata": {
        "id": "X9pFIZ2VNqAo",
        "colab_type": "text"
      },
      "source": [
        "Cascade assignment\n",
        "\n",
        "**Syntax:**\n",
        "\n",
        "```\n",
        "<var>, <var>, ..., <var> = <expr>, <expr>, ..., <expr>\n",
        "```\n",
        "\n"
      ]
    },
    {
      "cell_type": "code",
      "metadata": {
        "id": "9TpDvAlyN5cm",
        "colab_type": "code",
        "colab": {}
      },
      "source": [
        "x, y, z = 1, 2, 'ac/dc'"
      ],
      "execution_count": 0,
      "outputs": []
    },
    {
      "cell_type": "code",
      "metadata": {
        "id": "1zw5cgbpOC3d",
        "colab_type": "code",
        "outputId": "c803a79f-08c1-4cc1-e25b-5543ed588d9a",
        "colab": {
          "base_uri": "https://localhost:8080/",
          "height": 70
        }
      },
      "source": [
        "print(x)\n",
        "print(y)\n",
        "print(z)"
      ],
      "execution_count": 0,
      "outputs": [
        {
          "output_type": "stream",
          "text": [
            "1\n",
            "2\n",
            "ac/dc\n"
          ],
          "name": "stdout"
        }
      ]
    },
    {
      "cell_type": "markdown",
      "metadata": {
        "id": "rDzjLhFkOVVe",
        "colab_type": "text"
      },
      "source": [
        "Check variable available by calling whos"
      ]
    },
    {
      "cell_type": "code",
      "metadata": {
        "id": "bY-N1YadSvIs",
        "colab_type": "code",
        "outputId": "f5bcfd2b-c892-4d6d-de94-8efb41a62620",
        "colab": {
          "base_uri": "https://localhost:8080/",
          "height": 87
        }
      },
      "source": [
        "whos"
      ],
      "execution_count": 0,
      "outputs": [
        {
          "output_type": "stream",
          "text": [
            "Variable   Type     Data/Info\n",
            "-----------------------------\n",
            "price      float    7.35\n",
            "tax        float    0.125\n"
          ],
          "name": "stdout"
        }
      ]
    },
    {
      "cell_type": "markdown",
      "metadata": {
        "id": "3nkaV_Druzok",
        "colab_type": "text"
      },
      "source": [
        "In interactive mode, the last printed expression is assigned to the variable _. This means that when you are using Python as a desk calculator, it is somewhat easier to continue calculations, for example:"
      ]
    },
    {
      "cell_type": "code",
      "metadata": {
        "id": "B7EnyGDvCIeu",
        "colab_type": "code",
        "outputId": "b62ea93a-e22a-4f9f-fbd1-7b271fc91da5",
        "colab": {
          "base_uri": "https://localhost:8080/",
          "height": 35
        }
      },
      "source": [
        "tax = 12.5 / 100\n",
        "price = 7.35\n",
        "price * tax"
      ],
      "execution_count": 0,
      "outputs": [
        {
          "output_type": "execute_result",
          "data": {
            "text/plain": [
              "0.91875"
            ]
          },
          "metadata": {
            "tags": []
          },
          "execution_count": 22
        }
      ]
    },
    {
      "cell_type": "code",
      "metadata": {
        "id": "LhsMIeggCn57",
        "colab_type": "code",
        "outputId": "ed7334c4-e2ff-494d-d189-31d5f0a8b2e9",
        "colab": {
          "base_uri": "https://localhost:8080/",
          "height": 35
        }
      },
      "source": [
        "price + _\n"
      ],
      "execution_count": 0,
      "outputs": [
        {
          "output_type": "execute_result",
          "data": {
            "text/plain": [
              "8.268749999999999"
            ]
          },
          "metadata": {
            "tags": []
          },
          "execution_count": 23
        }
      ]
    },
    {
      "cell_type": "code",
      "metadata": {
        "id": "4lrN_eGLCqqb",
        "colab_type": "code",
        "outputId": "cc14ac6a-73d3-441a-8b56-e7bce2ea0222",
        "colab": {
          "base_uri": "https://localhost:8080/",
          "height": 35
        }
      },
      "source": [
        "round(_, 2)"
      ],
      "execution_count": 0,
      "outputs": [
        {
          "output_type": "execute_result",
          "data": {
            "text/plain": [
              "8.27"
            ]
          },
          "metadata": {
            "tags": []
          },
          "execution_count": 24
        }
      ]
    },
    {
      "cell_type": "code",
      "metadata": {
        "id": "rPtfLEqNAyE5",
        "colab_type": "code",
        "colab": {}
      },
      "source": [
        ""
      ],
      "execution_count": 0,
      "outputs": []
    },
    {
      "cell_type": "markdown",
      "metadata": {
        "id": "cYXIXxM-DCRN",
        "colab_type": "text"
      },
      "source": [
        "##Python Operators"
      ]
    },
    {
      "cell_type": "markdown",
      "metadata": {
        "id": "9lgT1yF3Drsc",
        "colab_type": "text"
      },
      "source": [
        "###Python Arithmetic Operators"
      ]
    },
    {
      "cell_type": "markdown",
      "metadata": {
        "id": "dcYYL3MFIXS1",
        "colab_type": "text"
      },
      "source": [
        "can be run on all variables with limitations\n",
        "\n",
        "numbers\n",
        "\n",
        "strings\n",
        "\n",
        "booleans\n",
        "\n",
        "None\n"
      ]
    },
    {
      "cell_type": "code",
      "metadata": {
        "id": "aeBo22f6DB4b",
        "colab_type": "code",
        "colab": {}
      },
      "source": [
        "word = 'hi'"
      ],
      "execution_count": 0,
      "outputs": []
    },
    {
      "cell_type": "code",
      "metadata": {
        "id": "K_egqjWYPqpU",
        "colab_type": "code",
        "outputId": "8a32ecc3-3f04-40e4-d986-32e54ce5a06a",
        "colab": {
          "base_uri": "https://localhost:8080/",
          "height": 35
        }
      },
      "source": [
        "word + word"
      ],
      "execution_count": 0,
      "outputs": [
        {
          "output_type": "execute_result",
          "data": {
            "text/plain": [
              "'hihi'"
            ]
          },
          "metadata": {
            "tags": []
          },
          "execution_count": 67
        }
      ]
    },
    {
      "cell_type": "code",
      "metadata": {
        "id": "kjfxqhysH_sC",
        "colab_type": "code",
        "colab": {}
      },
      "source": [
        "word - word"
      ],
      "execution_count": 0,
      "outputs": []
    },
    {
      "cell_type": "code",
      "metadata": {
        "id": "pTlQMSVbIIEf",
        "colab_type": "code",
        "outputId": "6f0ef1b6-0499-49c0-e5cc-b3276d526082",
        "colab": {
          "base_uri": "https://localhost:8080/",
          "height": 35
        }
      },
      "source": [
        "word * 4"
      ],
      "execution_count": 0,
      "outputs": [
        {
          "output_type": "execute_result",
          "data": {
            "text/plain": [
              "'hihihihi'"
            ]
          },
          "metadata": {
            "tags": []
          },
          "execution_count": 69
        }
      ]
    },
    {
      "cell_type": "code",
      "metadata": {
        "id": "Dg5aGzy9IWDY",
        "colab_type": "code",
        "outputId": "c7fd5d51-534e-4eaa-93c8-2cb13d0d6d98",
        "colab": {
          "base_uri": "https://localhost:8080/",
          "height": 35
        }
      },
      "source": [
        "my_boolean = False # boolean variable\n",
        "word * my_boolean"
      ],
      "execution_count": 0,
      "outputs": [
        {
          "output_type": "execute_result",
          "data": {
            "text/plain": [
              "''"
            ]
          },
          "metadata": {
            "tags": []
          },
          "execution_count": 73
        }
      ]
    },
    {
      "cell_type": "code",
      "metadata": {
        "id": "gYaRflQBJDm8",
        "colab_type": "code",
        "outputId": "58464ab5-40e8-41fa-9fb4-72d2172a0350",
        "colab": {
          "base_uri": "https://localhost:8080/",
          "height": 35
        }
      },
      "source": [
        "my_integer = int(my_boolean)\n",
        "print(my_integer)"
      ],
      "execution_count": 0,
      "outputs": [
        {
          "output_type": "stream",
          "text": [
            "0\n"
          ],
          "name": "stdout"
        }
      ]
    },
    {
      "cell_type": "markdown",
      "metadata": {
        "id": "Put-CBEaJ0y8",
        "colab_type": "text"
      },
      "source": [
        "###Comparison Operators\n",
        "\n",
        "Comparison operators are used to compare values.\n",
        "\n",
        "'>'\n",
        "\n",
        "'<'\n",
        "\n",
        "'=='\n",
        "\n",
        "'!='\n",
        "\n",
        "'>='\n",
        "\n",
        "'<='\n",
        "\n",
        " It returns either True or False according to the condition"
      ]
    },
    {
      "cell_type": "code",
      "metadata": {
        "id": "Zvdg3vFCKgFm",
        "colab_type": "code",
        "colab": {}
      },
      "source": [
        "my_number = 3"
      ],
      "execution_count": 0,
      "outputs": []
    },
    {
      "cell_type": "code",
      "metadata": {
        "id": "Q2QsQCuzM61O",
        "colab_type": "code",
        "outputId": "f7edf8c3-4622-4e60-8609-2024f72f7b68",
        "colab": {
          "base_uri": "https://localhost:8080/",
          "height": 35
        }
      },
      "source": [
        "my_number_is_less_than_ten  = my_number < 10\n",
        "print(my_number_is_less_than_ten)"
      ],
      "execution_count": 0,
      "outputs": [
        {
          "output_type": "stream",
          "text": [
            "True\n"
          ],
          "name": "stdout"
        }
      ]
    },
    {
      "cell_type": "code",
      "metadata": {
        "id": "xxKABEqxVqRL",
        "colab_type": "code",
        "outputId": "09dec3e9-090c-4a48-d978-a6b9a8787331",
        "colab": {
          "base_uri": "https://localhost:8080/",
          "height": 52
        }
      },
      "source": [
        "my_first_word = 'mama'\n",
        "my_second_word = 'up'\n",
        "\n",
        "print(my_first_word < my_second_word)\n",
        "print(my_first_word != my_second_word)"
      ],
      "execution_count": 0,
      "outputs": [
        {
          "output_type": "stream",
          "text": [
            "True\n",
            "True\n"
          ],
          "name": "stdout"
        }
      ]
    },
    {
      "cell_type": "code",
      "metadata": {
        "id": "BBE2ogLUNgMH",
        "colab_type": "code",
        "outputId": "33888ab9-a4db-4048-e5a0-972b8ced9e82",
        "colab": {
          "base_uri": "https://localhost:8080/",
          "height": 35
        }
      },
      "source": [
        "x = int(2)\n",
        "y = float(2.0)\n",
        "\n",
        "x == y"
      ],
      "execution_count": 0,
      "outputs": [
        {
          "output_type": "execute_result",
          "data": {
            "text/plain": [
              "True"
            ]
          },
          "metadata": {
            "tags": []
          },
          "execution_count": 79
        }
      ]
    },
    {
      "cell_type": "markdown",
      "metadata": {
        "id": "w1WHpU5tKfld",
        "colab_type": "text"
      },
      "source": [
        "###Assignment Operators"
      ]
    },
    {
      "cell_type": "markdown",
      "metadata": {
        "id": "sHeKvtCEN8rw",
        "colab_type": "text"
      },
      "source": [
        "'+='\n",
        "\n",
        "'-='\n",
        "\n",
        "'/='\n",
        "\n",
        "'%='\n",
        "\n",
        "'**='\n",
        "\n",
        "'//='\n"
      ]
    },
    {
      "cell_type": "code",
      "metadata": {
        "id": "3BXv2kEhOIHM",
        "colab_type": "code",
        "outputId": "7b361412-81d7-4717-b7f7-bd88b22b9b19",
        "colab": {
          "base_uri": "https://localhost:8080/",
          "height": 35
        }
      },
      "source": [
        "x+=y # x=x+y\n",
        "print(x)"
      ],
      "execution_count": 0,
      "outputs": [
        {
          "output_type": "stream",
          "text": [
            "6.0\n"
          ],
          "name": "stdout"
        }
      ]
    },
    {
      "cell_type": "code",
      "metadata": {
        "id": "WE5XO-xMOclA",
        "colab_type": "code",
        "outputId": "f02575b1-26cd-48b0-8908-d5722173ede2",
        "colab": {
          "base_uri": "https://localhost:8080/",
          "height": 35
        }
      },
      "source": [
        "x+=x\n",
        "print(x)"
      ],
      "execution_count": 0,
      "outputs": [
        {
          "output_type": "stream",
          "text": [
            "24.0\n"
          ],
          "name": "stdout"
        }
      ]
    },
    {
      "cell_type": "code",
      "metadata": {
        "id": "dVs9MTGBNSJH",
        "colab_type": "code",
        "colab": {}
      },
      "source": [
        "print(not True)"
      ],
      "execution_count": 0,
      "outputs": []
    },
    {
      "cell_type": "markdown",
      "metadata": {
        "id": "hv5yHHfciRGc",
        "colab_type": "text"
      },
      "source": [
        "##String Methods\n",
        "\n",
        "A method is like a function, but it runs \"on\" an object. If the variable s is a string, then the code s.lower() runs the lower() method on that string object and returns the result (this idea of a method running on an object is one of the basic ideas that make up Object Oriented Programming, OOP)"
      ]
    },
    {
      "cell_type": "code",
      "metadata": {
        "id": "N7OY4gHMkmoj",
        "colab_type": "code",
        "outputId": "9b9d3d6d-9b96-49cc-fd8e-a1cbd00defa7",
        "colab": {
          "base_uri": "https://localhost:8080/",
          "height": 35
        }
      },
      "source": [
        "print(str1.upper())"
      ],
      "execution_count": 0,
      "outputs": [
        {
          "output_type": "stream",
          "text": [
            "WELCOME\n"
          ],
          "name": "stdout"
        }
      ]
    },
    {
      "cell_type": "code",
      "metadata": {
        "id": "NvTPN8ayluZk",
        "colab_type": "code",
        "outputId": "4ed2125b-fa38-4d63-e0ad-ebedc61b5552",
        "colab": {
          "base_uri": "https://localhost:8080/",
          "height": 35
        }
      },
      "source": [
        "print(str1.lower())"
      ],
      "execution_count": 0,
      "outputs": [
        {
          "output_type": "stream",
          "text": [
            "welcome\n"
          ],
          "name": "stdout"
        }
      ]
    },
    {
      "cell_type": "code",
      "metadata": {
        "id": "5wdp4q1Pk7UW",
        "colab_type": "code",
        "outputId": "a057f00e-8b4c-449a-db83-65054daf8958",
        "colab": {
          "base_uri": "https://localhost:8080/",
          "height": 35
        }
      },
      "source": [
        "print(str1.replace('Wel',''))"
      ],
      "execution_count": 0,
      "outputs": [
        {
          "output_type": "stream",
          "text": [
            "come\n"
          ],
          "name": "stdout"
        }
      ]
    },
    {
      "cell_type": "markdown",
      "metadata": {
        "id": "HMLzX5eDkiRA",
        "colab_type": "text"
      },
      "source": [
        "A.b(c=d)\n",
        "\n",
        "means\n",
        "\n",
        "Do b to thing A, with d as my choice for option c"
      ]
    },
    {
      "cell_type": "code",
      "metadata": {
        "id": "ZIk7m8vpmg7i",
        "colab_type": "code",
        "outputId": "a97e05ae-53e5-451e-abc9-78bac00f3827",
        "colab": {
          "base_uri": "https://localhost:8080/",
          "height": 35
        }
      },
      "source": [
        "my_string = 'London is a capital of {name}'\n",
        "\n",
        "my_name = 'Great Britain'\n",
        "\n",
        "my_string.format(name=my_name)"
      ],
      "execution_count": 0,
      "outputs": [
        {
          "output_type": "execute_result",
          "data": {
            "text/plain": [
              "'London is a capital of Great Britain'"
            ]
          },
          "metadata": {
            "tags": []
          },
          "execution_count": 107
        }
      ]
    },
    {
      "cell_type": "code",
      "metadata": {
        "id": "THlVl_-MmkvW",
        "colab_type": "code",
        "outputId": "f669e06f-2e0d-4cf7-9f40-79465f83bcf5",
        "colab": {
          "base_uri": "https://localhost:8080/",
          "height": 35
        }
      },
      "source": [
        "my_string = 'London is a capital of {name}'\n",
        "print(my_string.format(name='Great Britain'))"
      ],
      "execution_count": 0,
      "outputs": [
        {
          "output_type": "stream",
          "text": [
            "London is a capital of Great Britain\n"
          ],
          "name": "stdout"
        }
      ]
    },
    {
      "cell_type": "code",
      "metadata": {
        "id": "lmS0oq3FuPd2",
        "colab_type": "code",
        "outputId": "f6ddebf9-7a3f-491f-ec81-216a6f9e7134",
        "colab": {
          "base_uri": "https://localhost:8080/",
          "height": 35
        }
      },
      "source": [
        "template = 'temprature =  {var:.1f} C'\n",
        "var1=36.6050\n",
        "template.format(var=var1)"
      ],
      "execution_count": 0,
      "outputs": [
        {
          "output_type": "execute_result",
          "data": {
            "text/plain": [
              "'temprature =  36.6 C'"
            ]
          },
          "metadata": {
            "tags": []
          },
          "execution_count": 132
        }
      ]
    },
    {
      "cell_type": "markdown",
      "metadata": {
        "id": "SkhZIKOyjmHe",
        "colab_type": "text"
      },
      "source": [
        "## String Slices / Indexing"
      ]
    },
    {
      "cell_type": "code",
      "metadata": {
        "id": "r_4hMm5bjuug",
        "colab_type": "code",
        "outputId": "ccdfc9a3-1b73-46c8-d8da-586d3bfc66e0",
        "colab": {
          "base_uri": "https://localhost:8080/",
          "height": 35
        }
      },
      "source": [
        "# indexing a single item\n",
        "str1[0]"
      ],
      "execution_count": 0,
      "outputs": [
        {
          "output_type": "execute_result",
          "data": {
            "text/plain": [
              "'W'"
            ]
          },
          "metadata": {
            "tags": []
          },
          "execution_count": 112
        }
      ]
    },
    {
      "cell_type": "code",
      "metadata": {
        "id": "bobCghMkpFE7",
        "colab_type": "code",
        "outputId": "08850e36-6555-401b-9b0d-e972008d89b0",
        "colab": {
          "base_uri": "https://localhost:8080/",
          "height": 35
        }
      },
      "source": [
        "# indexing multiple items\n",
        "str1[0:3]"
      ],
      "execution_count": 0,
      "outputs": [
        {
          "output_type": "execute_result",
          "data": {
            "text/plain": [
              "'Wel'"
            ]
          },
          "metadata": {
            "tags": []
          },
          "execution_count": 130
        }
      ]
    },
    {
      "cell_type": "code",
      "metadata": {
        "id": "vysKu8W7ojPI",
        "colab_type": "code",
        "outputId": "c958700b-778d-484a-8f4d-c8b8767f509a",
        "colab": {
          "base_uri": "https://localhost:8080/",
          "height": 35
        }
      },
      "source": [
        "# every other\n",
        "str1[0::2]"
      ],
      "execution_count": 0,
      "outputs": [
        {
          "output_type": "execute_result",
          "data": {
            "text/plain": [
              "'Wloe'"
            ]
          },
          "metadata": {
            "tags": []
          },
          "execution_count": 129
        }
      ]
    },
    {
      "cell_type": "code",
      "metadata": {
        "id": "9JBYPupEoGc4",
        "colab_type": "code",
        "outputId": "aa227e96-97d5-422c-a5f3-26f82cb4fbd7",
        "colab": {
          "base_uri": "https://localhost:8080/",
          "height": 35
        }
      },
      "source": [
        "# invert\n",
        "str1[-1::-1]"
      ],
      "execution_count": 0,
      "outputs": [
        {
          "output_type": "execute_result",
          "data": {
            "text/plain": [
              "'emocleW'"
            ]
          },
          "metadata": {
            "tags": []
          },
          "execution_count": 121
        }
      ]
    },
    {
      "cell_type": "code",
      "metadata": {
        "id": "dutDzVw-ub3F",
        "colab_type": "code",
        "outputId": "3edba57a-8abf-4514-cf5e-216bb4fef271",
        "colab": {
          "base_uri": "https://localhost:8080/",
          "height": 35
        }
      },
      "source": [
        "# invert\n",
        "str1[-1:None:-1]"
      ],
      "execution_count": 0,
      "outputs": [
        {
          "output_type": "execute_result",
          "data": {
            "text/plain": [
              "'emocleW'"
            ]
          },
          "metadata": {
            "tags": []
          },
          "execution_count": 133
        }
      ]
    },
    {
      "cell_type": "markdown",
      "metadata": {
        "id": "I3xpw01NMB1S",
        "colab_type": "text"
      },
      "source": [
        "## Python Input\n",
        "Up until now, our programs were static. The value of variables was defined or hard coded into the source code."
      ]
    },
    {
      "cell_type": "code",
      "metadata": {
        "id": "z389y2j-MEWp",
        "colab_type": "code",
        "outputId": "b772ac35-1fd5-4d24-af5f-35a11b6492d6",
        "colab": {
          "base_uri": "https://localhost:8080/",
          "height": 35
        }
      },
      "source": [
        "num = input('Enter a number: ')"
      ],
      "execution_count": 0,
      "outputs": [
        {
          "output_type": "stream",
          "text": [
            "Enter a number: 3\n"
          ],
          "name": "stdout"
        }
      ]
    },
    {
      "cell_type": "code",
      "metadata": {
        "id": "uQlkRoxMWn-M",
        "colab_type": "code",
        "outputId": "3ef6075b-49e0-427c-d2f7-950e54c82d80",
        "colab": {
          "base_uri": "https://localhost:8080/",
          "height": 35
        }
      },
      "source": [
        "num"
      ],
      "execution_count": 0,
      "outputs": [
        {
          "output_type": "execute_result",
          "data": {
            "text/plain": [
              "'3'"
            ]
          },
          "metadata": {
            "tags": []
          },
          "execution_count": 87
        }
      ]
    },
    {
      "cell_type": "code",
      "metadata": {
        "id": "CXe7JEf2W3UG",
        "colab_type": "code",
        "outputId": "164f6b1a-dd09-4048-88de-d238b5bcd22a",
        "colab": {
          "base_uri": "https://localhost:8080/",
          "height": 35
        }
      },
      "source": [
        "int(num)"
      ],
      "execution_count": 0,
      "outputs": [
        {
          "output_type": "execute_result",
          "data": {
            "text/plain": [
              "3"
            ]
          },
          "metadata": {
            "tags": []
          },
          "execution_count": 88
        }
      ]
    },
    {
      "cell_type": "code",
      "metadata": {
        "id": "XdM0r2f0W89m",
        "colab_type": "code",
        "outputId": "0144fd07-e7d4-48a1-e431-5e923660d0dc",
        "colab": {
          "base_uri": "https://localhost:8080/",
          "height": 35
        }
      },
      "source": [
        "eval('3+2')"
      ],
      "execution_count": 0,
      "outputs": [
        {
          "output_type": "execute_result",
          "data": {
            "text/plain": [
              "5"
            ]
          },
          "metadata": {
            "tags": []
          },
          "execution_count": 92
        }
      ]
    },
    {
      "cell_type": "markdown",
      "metadata": {
        "id": "_yIlXO8dS0Uz",
        "colab_type": "text"
      },
      "source": [
        "!!!Time for First Exercise!!!"
      ]
    }
  ]
}
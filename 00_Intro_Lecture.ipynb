{
  "nbformat": 4,
  "nbformat_minor": 0,
  "metadata": {
    "colab": {
      "name": "00-Intro Lecture.ipynb",
      "provenance": [],
      "collapsed_sections": [],
      "include_colab_link": true
    },
    "kernelspec": {
      "name": "python3",
      "display_name": "Python 3"
    }
  },
  "cells": [
    {
      "cell_type": "markdown",
      "metadata": {
        "id": "view-in-github",
        "colab_type": "text"
      },
      "source": [
        "<a href=\"https://colab.research.google.com/github/mikislin/summer20-Intro-python/blob/master/00_Intro_Lecture.ipynb\" target=\"_parent\"><img src=\"https://colab.research.google.com/assets/colab-badge.svg\" alt=\"Open In Colab\"/></a>"
      ]
    },
    {
      "cell_type": "markdown",
      "metadata": {
        "id": "l1VH0qN3A-v5",
        "colab_type": "text"
      },
      "source": [
        "## Print statement "
      ]
    },
    {
      "cell_type": "markdown",
      "metadata": {
        "id": "HQNuKzdi-8uO",
        "colab_type": "text"
      },
      "source": [
        "##### print \"Hello, world!\" using print function\n",
        "\n",
        "to learn what function does use help\n",
        "SHIFT+ TAB or print?\n",
        "\n",
        "On Colab, for SHIFT+ TAB to work, you have to disable Automatically trigger code completions on Tools->Settings.\n",
        "\n",
        "All Shortcuts can be found using CTRL + MH or going to Tools->Keyboard Shortcuts\n",
        "\n"
      ]
    },
    {
      "cell_type": "code",
      "metadata": {
        "id": "Jufk5zvA_0ty",
        "colab_type": "code",
        "colab": {}
      },
      "source": [
        ""
      ],
      "execution_count": 0,
      "outputs": []
    },
    {
      "cell_type": "code",
      "metadata": {
        "id": "-KHxg7xfJ8kD",
        "colab_type": "code",
        "colab": {}
      },
      "source": [
        ""
      ],
      "execution_count": 0,
      "outputs": []
    },
    {
      "cell_type": "code",
      "metadata": {
        "id": "OnwcgbwiEZwf",
        "colab_type": "code",
        "colab": {}
      },
      "source": [
        ""
      ],
      "execution_count": 0,
      "outputs": []
    },
    {
      "cell_type": "code",
      "metadata": {
        "id": "XsF_BlkaJ8EX",
        "colab_type": "code",
        "colab": {}
      },
      "source": [
        ""
      ],
      "execution_count": 0,
      "outputs": []
    },
    {
      "cell_type": "code",
      "metadata": {
        "id": "XBHR0afp_09a",
        "colab_type": "code",
        "colab": {}
      },
      "source": [
        ""
      ],
      "execution_count": 0,
      "outputs": []
    },
    {
      "cell_type": "code",
      "metadata": {
        "id": "bWAyf16kATA3",
        "colab_type": "code",
        "colab": {}
      },
      "source": [
        "# you can use raw strings by adding an r before the first quote\n"
      ],
      "execution_count": 0,
      "outputs": []
    },
    {
      "cell_type": "code",
      "metadata": {
        "id": "dB7FWSeaACyy",
        "colab_type": "code",
        "colab": {}
      },
      "source": [
        "# triple quotes are generally used for multi-line strings\n"
      ],
      "execution_count": 0,
      "outputs": []
    },
    {
      "cell_type": "code",
      "metadata": {
        "id": "ggngcknEIwiq",
        "colab_type": "code",
        "colab": {}
      },
      "source": [
        "# format with data type\n"
      ],
      "execution_count": 0,
      "outputs": []
    },
    {
      "cell_type": "markdown",
      "metadata": {
        "id": "gGmRb9LgHO8g",
        "colab_type": "text"
      },
      "source": [
        "#####Similarly, when using other data types\n",
        "\n",
        "  %d -> Integer\n",
        "\n",
        "  %e -> exponential\n",
        "\n",
        "  %f -> Float\n",
        "\n",
        "  %o -> Octal\n",
        "\n",
        "  %x -> Hexadecimal\n",
        "\n",
        "This can be used for conversions inside the print statement itself."
      ]
    },
    {
      "cell_type": "code",
      "metadata": {
        "id": "HxUQdM_rFp3N",
        "colab_type": "code",
        "colab": {}
      },
      "source": [
        ""
      ],
      "execution_count": 0,
      "outputs": []
    },
    {
      "cell_type": "code",
      "metadata": {
        "id": "WUcUbaqrH2FV",
        "colab_type": "code",
        "colab": {}
      },
      "source": [
        ""
      ],
      "execution_count": 0,
      "outputs": []
    },
    {
      "cell_type": "code",
      "metadata": {
        "id": "SyPViAitH_pa",
        "colab_type": "code",
        "colab": {}
      },
      "source": [
        ""
      ],
      "execution_count": 0,
      "outputs": []
    },
    {
      "cell_type": "code",
      "metadata": {
        "id": "3A9soZbWIEDr",
        "colab_type": "code",
        "colab": {}
      },
      "source": [
        ""
      ],
      "execution_count": 0,
      "outputs": []
    },
    {
      "cell_type": "code",
      "metadata": {
        "id": "ImenLzHuIK6W",
        "colab_type": "code",
        "colab": {}
      },
      "source": [
        ""
      ],
      "execution_count": 0,
      "outputs": []
    },
    {
      "cell_type": "code",
      "metadata": {
        "id": "kjbfWVULIP3_",
        "colab_type": "code",
        "colab": {}
      },
      "source": [
        ""
      ],
      "execution_count": 0,
      "outputs": []
    },
    {
      "cell_type": "code",
      "metadata": {
        "id": "rTwi98jMK5lP",
        "colab_type": "code",
        "colab": {}
      },
      "source": [
        ""
      ],
      "execution_count": 0,
      "outputs": []
    },
    {
      "cell_type": "markdown",
      "metadata": {
        "id": "bJI1UZYmAuaX",
        "colab_type": "text"
      },
      "source": [
        "## Using Python as a Calculator"
      ]
    },
    {
      "cell_type": "markdown",
      "metadata": {
        "id": "tzgdtZc18NwD",
        "colab_type": "text"
      },
      "source": [
        "The interpreter acts as a simple calculator: you can type an expression at it and it will write the value. Expression syntax is straightforward: the operators +, -, * and / work just like in most other languages (for example, Pascal or C); parentheses (()) can be used for grouping."
      ]
    },
    {
      "cell_type": "code",
      "metadata": {
        "id": "nUsxaHQD8t4D",
        "colab_type": "code",
        "colab": {}
      },
      "source": [
        ""
      ],
      "execution_count": 0,
      "outputs": []
    },
    {
      "cell_type": "code",
      "metadata": {
        "id": "ju3ya-YX8zjZ",
        "colab_type": "code",
        "colab": {}
      },
      "source": [
        ""
      ],
      "execution_count": 0,
      "outputs": []
    },
    {
      "cell_type": "code",
      "metadata": {
        "id": "M1jLntC78-34",
        "colab_type": "code",
        "colab": {}
      },
      "source": [
        ""
      ],
      "execution_count": 0,
      "outputs": []
    },
    {
      "cell_type": "code",
      "metadata": {
        "id": "zh4a8ZF89GGH",
        "colab_type": "code",
        "colab": {}
      },
      "source": [
        ""
      ],
      "execution_count": 0,
      "outputs": []
    },
    {
      "cell_type": "markdown",
      "metadata": {
        "id": "il-C9pX09WVW",
        "colab_type": "text"
      },
      "source": [
        "Division (/) always returns a float. To do floor division and get an integer result (discarding any fractional result) you can use the // operator; to calculate the remainder you can use %"
      ]
    },
    {
      "cell_type": "code",
      "metadata": {
        "id": "5wi5yVW89lmC",
        "colab_type": "code",
        "colab": {}
      },
      "source": [
        " # result * divisor + remainder"
      ],
      "execution_count": 0,
      "outputs": []
    },
    {
      "cell_type": "markdown",
      "metadata": {
        "id": "d-y_xu8T9u_A",
        "colab_type": "text"
      },
      "source": [
        "With Python, it is possible to use the ** operator to calculate powers"
      ]
    },
    {
      "cell_type": "code",
      "metadata": {
        "id": "pMrSK6xD9ui3",
        "colab_type": "code",
        "colab": {}
      },
      "source": [
        ""
      ],
      "execution_count": 0,
      "outputs": []
    },
    {
      "cell_type": "code",
      "metadata": {
        "id": "z06hQI_Q9_fT",
        "colab_type": "code",
        "colab": {}
      },
      "source": [
        ""
      ],
      "execution_count": 0,
      "outputs": []
    },
    {
      "cell_type": "code",
      "metadata": {
        "id": "bHRMIBRJ-Dxx",
        "colab_type": "code",
        "colab": {}
      },
      "source": [
        ""
      ],
      "execution_count": 0,
      "outputs": []
    },
    {
      "cell_type": "code",
      "metadata": {
        "id": "bO9E6R1DFaB_",
        "colab_type": "code",
        "colab": {}
      },
      "source": [
        ""
      ],
      "execution_count": 0,
      "outputs": []
    },
    {
      "cell_type": "code",
      "metadata": {
        "id": "q2d8knKxFKUa",
        "colab_type": "code",
        "colab": {}
      },
      "source": [
        ""
      ],
      "execution_count": 0,
      "outputs": []
    },
    {
      "cell_type": "markdown",
      "metadata": {
        "id": "PRlJVO_fFsyn",
        "colab_type": "text"
      },
      "source": [
        "##Variables"
      ]
    },
    {
      "cell_type": "markdown",
      "metadata": {
        "id": "IxRVsL9RL_9U",
        "colab_type": "text"
      },
      "source": [
        "#####Python Assignment Statements\n",
        "\n",
        "**Syntax:**\n",
        "\n",
        "\n",
        "```\n",
        "<variable> = <expr>\n",
        "```\n",
        "\n"
      ]
    },
    {
      "cell_type": "code",
      "metadata": {
        "id": "aRGeL1EVMZLr",
        "colab_type": "code",
        "colab": {}
      },
      "source": [
        ""
      ],
      "execution_count": 0,
      "outputs": []
    },
    {
      "cell_type": "markdown",
      "metadata": {
        "id": "4ssYhmpTF4IU",
        "colab_type": "text"
      },
      "source": [
        "Strings can be assigned to variable say string1 and string2 which can called when using the print statement."
      ]
    },
    {
      "cell_type": "code",
      "metadata": {
        "id": "VBoT3U-GFqzG",
        "colab_type": "code",
        "colab": {}
      },
      "source": [
        ""
      ],
      "execution_count": 0,
      "outputs": []
    },
    {
      "cell_type": "code",
      "metadata": {
        "id": "pxM0OyYRMyzd",
        "colab_type": "code",
        "colab": {}
      },
      "source": [
        ""
      ],
      "execution_count": 0,
      "outputs": []
    },
    {
      "cell_type": "markdown",
      "metadata": {
        "id": "4lwaMYTqNJ5Q",
        "colab_type": "text"
      },
      "source": [
        "#####Multiple Assignment\n",
        "\n",
        "**Syntax:**\n",
        "\n",
        "\n",
        "```\n",
        "var1=var2=var3...varn= = <expr>\n",
        "```\n",
        "\n"
      ]
    },
    {
      "cell_type": "code",
      "metadata": {
        "id": "hZurQ9EuNFOY",
        "colab_type": "code",
        "colab": {}
      },
      "source": [
        ""
      ],
      "execution_count": 0,
      "outputs": []
    },
    {
      "cell_type": "code",
      "metadata": {
        "id": "DvhYNoeNNeZI",
        "colab_type": "code",
        "colab": {}
      },
      "source": [
        ""
      ],
      "execution_count": 0,
      "outputs": []
    },
    {
      "cell_type": "markdown",
      "metadata": {
        "id": "X9pFIZ2VNqAo",
        "colab_type": "text"
      },
      "source": [
        "Cascade assignment\n",
        "\n",
        "**Syntax:**\n",
        "\n",
        "```\n",
        "<var>, <var>, ..., <var> = <expr>, <expr>, ..., <expr>\n",
        "```\n",
        "\n"
      ]
    },
    {
      "cell_type": "code",
      "metadata": {
        "id": "9TpDvAlyN5cm",
        "colab_type": "code",
        "colab": {}
      },
      "source": [
        ""
      ],
      "execution_count": 0,
      "outputs": []
    },
    {
      "cell_type": "code",
      "metadata": {
        "id": "1zw5cgbpOC3d",
        "colab_type": "code",
        "colab": {}
      },
      "source": [
        ""
      ],
      "execution_count": 0,
      "outputs": []
    },
    {
      "cell_type": "markdown",
      "metadata": {
        "id": "rDzjLhFkOVVe",
        "colab_type": "text"
      },
      "source": [
        "Check variable available by calling whos"
      ]
    },
    {
      "cell_type": "code",
      "metadata": {
        "id": "bY-N1YadSvIs",
        "colab_type": "code",
        "colab": {}
      },
      "source": [
        ""
      ],
      "execution_count": 0,
      "outputs": []
    },
    {
      "cell_type": "markdown",
      "metadata": {
        "id": "3nkaV_Druzok",
        "colab_type": "text"
      },
      "source": [
        "In interactive mode, the last printed expression is assigned to the variable _. This means that when you are using Python as a desk calculator, it is somewhat easier to continue calculations, for example:"
      ]
    },
    {
      "cell_type": "code",
      "metadata": {
        "id": "B7EnyGDvCIeu",
        "colab_type": "code",
        "colab": {}
      },
      "source": [
        ""
      ],
      "execution_count": 0,
      "outputs": []
    },
    {
      "cell_type": "code",
      "metadata": {
        "id": "LhsMIeggCn57",
        "colab_type": "code",
        "colab": {}
      },
      "source": [
        ""
      ],
      "execution_count": 0,
      "outputs": []
    },
    {
      "cell_type": "code",
      "metadata": {
        "id": "4lrN_eGLCqqb",
        "colab_type": "code",
        "colab": {}
      },
      "source": [
        ""
      ],
      "execution_count": 0,
      "outputs": []
    },
    {
      "cell_type": "markdown",
      "metadata": {
        "id": "cYXIXxM-DCRN",
        "colab_type": "text"
      },
      "source": [
        "##Python Operators"
      ]
    },
    {
      "cell_type": "markdown",
      "metadata": {
        "id": "9lgT1yF3Drsc",
        "colab_type": "text"
      },
      "source": [
        "###Python Arithmetic Operators"
      ]
    },
    {
      "cell_type": "markdown",
      "metadata": {
        "id": "dcYYL3MFIXS1",
        "colab_type": "text"
      },
      "source": [
        "can be run on all variables with limitations\n",
        "\n",
        "numbers\n",
        "\n",
        "strings\n",
        "\n",
        "booleans\n",
        "\n",
        "None\n"
      ]
    },
    {
      "cell_type": "code",
      "metadata": {
        "id": "aeBo22f6DB4b",
        "colab_type": "code",
        "colab": {}
      },
      "source": [
        ""
      ],
      "execution_count": 0,
      "outputs": []
    },
    {
      "cell_type": "code",
      "metadata": {
        "id": "K_egqjWYPqpU",
        "colab_type": "code",
        "colab": {}
      },
      "source": [
        ""
      ],
      "execution_count": 0,
      "outputs": []
    },
    {
      "cell_type": "code",
      "metadata": {
        "id": "kjfxqhysH_sC",
        "colab_type": "code",
        "colab": {}
      },
      "source": [
        ""
      ],
      "execution_count": 0,
      "outputs": []
    },
    {
      "cell_type": "code",
      "metadata": {
        "id": "pTlQMSVbIIEf",
        "colab_type": "code",
        "colab": {}
      },
      "source": [
        ""
      ],
      "execution_count": 0,
      "outputs": []
    },
    {
      "cell_type": "code",
      "metadata": {
        "id": "Dg5aGzy9IWDY",
        "colab_type": "code",
        "colab": {}
      },
      "source": [
        ""
      ],
      "execution_count": 0,
      "outputs": []
    },
    {
      "cell_type": "code",
      "metadata": {
        "id": "gYaRflQBJDm8",
        "colab_type": "code",
        "colab": {}
      },
      "source": [
        ""
      ],
      "execution_count": 0,
      "outputs": []
    },
    {
      "cell_type": "markdown",
      "metadata": {
        "id": "Put-CBEaJ0y8",
        "colab_type": "text"
      },
      "source": [
        "###Comparison Operators\n",
        "\n",
        "Comparison operators are used to compare values.\n",
        "\n",
        "'>'\n",
        "\n",
        "'<'\n",
        "\n",
        "'=='\n",
        "\n",
        "'!='\n",
        "\n",
        "'>='\n",
        "\n",
        "'<='\n",
        "\n",
        " It returns either True or False according to the condition"
      ]
    },
    {
      "cell_type": "code",
      "metadata": {
        "id": "Zvdg3vFCKgFm",
        "colab_type": "code",
        "colab": {}
      },
      "source": [
        ""
      ],
      "execution_count": 0,
      "outputs": []
    },
    {
      "cell_type": "code",
      "metadata": {
        "id": "Q2QsQCuzM61O",
        "colab_type": "code",
        "colab": {}
      },
      "source": [
        ""
      ],
      "execution_count": 0,
      "outputs": []
    },
    {
      "cell_type": "code",
      "metadata": {
        "id": "xxKABEqxVqRL",
        "colab_type": "code",
        "colab": {}
      },
      "source": [
        ""
      ],
      "execution_count": 0,
      "outputs": []
    },
    {
      "cell_type": "code",
      "metadata": {
        "id": "BBE2ogLUNgMH",
        "colab_type": "code",
        "colab": {}
      },
      "source": [
        ""
      ],
      "execution_count": 0,
      "outputs": []
    },
    {
      "cell_type": "markdown",
      "metadata": {
        "id": "w1WHpU5tKfld",
        "colab_type": "text"
      },
      "source": [
        "###Assignment Operators"
      ]
    },
    {
      "cell_type": "markdown",
      "metadata": {
        "id": "sHeKvtCEN8rw",
        "colab_type": "text"
      },
      "source": [
        "'+='\n",
        "\n",
        "'-='\n",
        "\n",
        "'/='\n",
        "\n",
        "'%='\n",
        "\n",
        "'**='\n",
        "\n",
        "'//='\n"
      ]
    },
    {
      "cell_type": "code",
      "metadata": {
        "id": "3BXv2kEhOIHM",
        "colab_type": "code",
        "colab": {}
      },
      "source": [
        ""
      ],
      "execution_count": 0,
      "outputs": []
    },
    {
      "cell_type": "code",
      "metadata": {
        "id": "WE5XO-xMOclA",
        "colab_type": "code",
        "colab": {}
      },
      "source": [
        ""
      ],
      "execution_count": 0,
      "outputs": []
    },
    {
      "cell_type": "code",
      "metadata": {
        "id": "dVs9MTGBNSJH",
        "colab_type": "code",
        "colab": {}
      },
      "source": [
        ""
      ],
      "execution_count": 0,
      "outputs": []
    },
    {
      "cell_type": "markdown",
      "metadata": {
        "id": "hv5yHHfciRGc",
        "colab_type": "text"
      },
      "source": [
        "##String Methods\n",
        "\n",
        "A method is like a function, but it runs \"on\" an object. If the variable s is a string, then the code s.lower() runs the lower() method on that string object and returns the result (this idea of a method running on an object is one of the basic ideas that make up Object Oriented Programming, OOP)"
      ]
    },
    {
      "cell_type": "code",
      "metadata": {
        "id": "N7OY4gHMkmoj",
        "colab_type": "code",
        "colab": {}
      },
      "source": [
        ""
      ],
      "execution_count": 0,
      "outputs": []
    },
    {
      "cell_type": "code",
      "metadata": {
        "id": "NvTPN8ayluZk",
        "colab_type": "code",
        "colab": {}
      },
      "source": [
        ""
      ],
      "execution_count": 0,
      "outputs": []
    },
    {
      "cell_type": "code",
      "metadata": {
        "id": "5wdp4q1Pk7UW",
        "colab_type": "code",
        "colab": {}
      },
      "source": [
        ""
      ],
      "execution_count": 0,
      "outputs": []
    },
    {
      "cell_type": "markdown",
      "metadata": {
        "id": "HMLzX5eDkiRA",
        "colab_type": "text"
      },
      "source": [
        "A.b(c=d)\n",
        "\n",
        "means\n",
        "\n",
        "Do b to thing A, with d as my choice for option c"
      ]
    },
    {
      "cell_type": "code",
      "metadata": {
        "id": "ZIk7m8vpmg7i",
        "colab_type": "code",
        "colab": {}
      },
      "source": [
        ""
      ],
      "execution_count": 0,
      "outputs": []
    },
    {
      "cell_type": "code",
      "metadata": {
        "id": "THlVl_-MmkvW",
        "colab_type": "code",
        "colab": {}
      },
      "source": [
        ""
      ],
      "execution_count": 0,
      "outputs": []
    },
    {
      "cell_type": "code",
      "metadata": {
        "id": "lmS0oq3FuPd2",
        "colab_type": "code",
        "colab": {}
      },
      "source": [
        ""
      ],
      "execution_count": 0,
      "outputs": []
    },
    {
      "cell_type": "markdown",
      "metadata": {
        "id": "SkhZIKOyjmHe",
        "colab_type": "text"
      },
      "source": [
        "## String Slices / Indexing"
      ]
    },
    {
      "cell_type": "code",
      "metadata": {
        "id": "r_4hMm5bjuug",
        "colab_type": "code",
        "colab": {}
      },
      "source": [
        "# indexing a single item\n"
      ],
      "execution_count": 0,
      "outputs": []
    },
    {
      "cell_type": "code",
      "metadata": {
        "id": "bobCghMkpFE7",
        "colab_type": "code",
        "colab": {}
      },
      "source": [
        "# indexing multiple items\n"
      ],
      "execution_count": 0,
      "outputs": []
    },
    {
      "cell_type": "code",
      "metadata": {
        "id": "vysKu8W7ojPI",
        "colab_type": "code",
        "colab": {}
      },
      "source": [
        "# every other\n"
      ],
      "execution_count": 0,
      "outputs": []
    },
    {
      "cell_type": "code",
      "metadata": {
        "id": "9JBYPupEoGc4",
        "colab_type": "code",
        "colab": {}
      },
      "source": [
        "# invert\n"
      ],
      "execution_count": 0,
      "outputs": []
    },
    {
      "cell_type": "code",
      "metadata": {
        "id": "dutDzVw-ub3F",
        "colab_type": "code",
        "colab": {}
      },
      "source": [
        "# invert\n"
      ],
      "execution_count": 0,
      "outputs": []
    },
    {
      "cell_type": "markdown",
      "metadata": {
        "id": "I3xpw01NMB1S",
        "colab_type": "text"
      },
      "source": [
        "## Python Input\n",
        "Up until now, our programs were static. The value of variables was defined or hard coded into the source code."
      ]
    },
    {
      "cell_type": "code",
      "metadata": {
        "id": "z389y2j-MEWp",
        "colab_type": "code",
        "colab": {}
      },
      "source": [
        ""
      ],
      "execution_count": 0,
      "outputs": []
    },
    {
      "cell_type": "code",
      "metadata": {
        "id": "uQlkRoxMWn-M",
        "colab_type": "code",
        "colab": {}
      },
      "source": [
        ""
      ],
      "execution_count": 0,
      "outputs": []
    },
    {
      "cell_type": "code",
      "metadata": {
        "id": "CXe7JEf2W3UG",
        "colab_type": "code",
        "colab": {}
      },
      "source": [
        ""
      ],
      "execution_count": 0,
      "outputs": []
    },
    {
      "cell_type": "code",
      "metadata": {
        "id": "XdM0r2f0W89m",
        "colab_type": "code",
        "colab": {}
      },
      "source": [
        ""
      ],
      "execution_count": 0,
      "outputs": []
    },
    {
      "cell_type": "markdown",
      "metadata": {
        "id": "_yIlXO8dS0Uz",
        "colab_type": "text"
      },
      "source": [
        "!!!Time for First Exercise!!!"
      ]
    }
  ]
}
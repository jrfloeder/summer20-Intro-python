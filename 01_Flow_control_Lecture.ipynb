{
  "nbformat": 4,
  "nbformat_minor": 0,
  "metadata": {
    "colab": {
      "name": "01-Flow control Lecture.ipynb",
      "provenance": [],
      "collapsed_sections": [],
      "authorship_tag": "ABX9TyNHDsZuRiQ7mIoNTQm0VLt9",
      "include_colab_link": true
    },
    "kernelspec": {
      "name": "python3",
      "display_name": "Python 3"
    }
  },
  "cells": [
    {
      "cell_type": "markdown",
      "metadata": {
        "id": "view-in-github",
        "colab_type": "text"
      },
      "source": [
        "<a href=\"https://colab.research.google.com/github/mikislin/summer20-Intro-python/blob/master/01_Flow_control_Lecture.ipynb\" target=\"_parent\"><img src=\"https://colab.research.google.com/assets/colab-badge.svg\" alt=\"Open In Colab\"/></a>"
      ]
    },
    {
      "cell_type": "markdown",
      "metadata": {
        "id": "6Njd-IXfA0Iq",
        "colab_type": "text"
      },
      "source": [
        "##**Python List**"
      ]
    },
    {
      "cell_type": "markdown",
      "metadata": {
        "id": "NoPV-1p-A-60",
        "colab_type": "text"
      },
      "source": [
        "A list is a container which holds comma-separated values (items or elements) between square brackets where items or elements need not all have the same type."
      ]
    },
    {
      "cell_type": "markdown",
      "metadata": {
        "id": "FRULHk5uBLHC",
        "colab_type": "text"
      },
      "source": [
        "Examples of lists:\n",
        "\n",
        "numbers = [1, 2, 3, 4, 5]\n",
        "\n",
        "names = [\"Sara\", \"David\", \"Warner\", \"Sandy\"]\n",
        "\n",
        "student_info = [\"Sara\", 1, \"Chemistry\"]"
      ]
    },
    {
      "cell_type": "code",
      "metadata": {
        "id": "wda3oJptA4HH",
        "colab_type": "code",
        "colab": {}
      },
      "source": [
        "# a simple list (not a numpy array!)\n",
        "\n"
      ],
      "execution_count": 0,
      "outputs": []
    },
    {
      "cell_type": "code",
      "metadata": {
        "id": "RSIjUPOc2AN_",
        "colab_type": "code",
        "colab": {}
      },
      "source": [
        "# indexing: single item\n"
      ],
      "execution_count": 0,
      "outputs": []
    },
    {
      "cell_type": "code",
      "metadata": {
        "id": "uXUPYoo1B0kw",
        "colab_type": "code",
        "colab": {}
      },
      "source": [
        "# indexing: range\n"
      ],
      "execution_count": 0,
      "outputs": []
    },
    {
      "cell_type": "code",
      "metadata": {
        "id": "TlydxXdFB2ci",
        "colab_type": "code",
        "colab": {}
      },
      "source": [
        "# indexing: backwards"
      ],
      "execution_count": 0,
      "outputs": []
    },
    {
      "cell_type": "code",
      "metadata": {
        "id": "cptBNA2RB40m",
        "colab_type": "code",
        "colab": {}
      },
      "source": [
        "# indexing: setting a range\n",
        "\n",
        "\n",
        "\n",
        "\n",
        "#if statment to check the ranges matches \n",
        "\n",
        "\n",
        "# The assert keyword is used when debugging code.\n",
        "# The assert keyword lets you test if a condition in your code returns True,\n",
        "# if not, the program will raise an AssertionError.\n",
        "# You can write a message to be written if the code returns False, check the example below.\n",
        "\n",
        "assert len(a) == len(b), 'The list lenghts did not match'"
      ],
      "execution_count": 0,
      "outputs": []
    },
    {
      "cell_type": "code",
      "metadata": {
        "id": "OfYxj9a-CI3b",
        "colab_type": "code",
        "colab": {}
      },
      "source": [
        "# adding lists to each other\n"
      ],
      "execution_count": 0,
      "outputs": []
    },
    {
      "cell_type": "code",
      "metadata": {
        "id": "yO3p2aYUCUcZ",
        "colab_type": "code",
        "colab": {}
      },
      "source": [
        "# list methods: append, insert, index\n"
      ],
      "execution_count": 0,
      "outputs": []
    },
    {
      "cell_type": "code",
      "metadata": {
        "id": "ybrlNeSpC8ng",
        "colab_type": "code",
        "colab": {}
      },
      "source": [
        "# common ERROR does not return \n",
        "# my_list = my_list.append('d') # wrong way\n",
        "\n",
        "# Docstring: L.append(object) -> None -- append object to end\n",
        "# Type:      builtin_function_or_method"
      ],
      "execution_count": 0,
      "outputs": []
    },
    {
      "cell_type": "code",
      "metadata": {
        "id": "ncANvJqODMQR",
        "colab_type": "code",
        "colab": {}
      },
      "source": [
        "# insert element to the list\n"
      ],
      "execution_count": 0,
      "outputs": []
    },
    {
      "cell_type": "code",
      "metadata": {
        "id": "x5VFMHW0D9FA",
        "colab_type": "code",
        "colab": {}
      },
      "source": [
        "# Modify an element by using the index of the element\n"
      ],
      "execution_count": 0,
      "outputs": []
    },
    {
      "cell_type": "code",
      "metadata": {
        "id": "BhDKaRKTEMJz",
        "colab_type": "code",
        "colab": {}
      },
      "source": [
        "# Remove an item from the list\n"
      ],
      "execution_count": 0,
      "outputs": []
    },
    {
      "cell_type": "code",
      "metadata": {
        "id": "kUrc2osUEecu",
        "colab_type": "code",
        "colab": {}
      },
      "source": [
        "# Remove all items from the list\n"
      ],
      "execution_count": 0,
      "outputs": []
    },
    {
      "cell_type": "code",
      "metadata": {
        "id": "ukayO6_2FPy4",
        "colab_type": "code",
        "colab": {}
      },
      "source": [
        "# Sort the items of the list in place\n"
      ],
      "execution_count": 0,
      "outputs": []
    },
    {
      "cell_type": "code",
      "metadata": {
        "id": "s-Zz8JUHF1XB",
        "colab_type": "code",
        "colab": {}
      },
      "source": [
        "# Find the largest and the smallest item in a list\n"
      ],
      "execution_count": 0,
      "outputs": []
    },
    {
      "cell_type": "code",
      "metadata": {
        "id": "qD7iwf_bGWRq",
        "colab_type": "code",
        "colab": {}
      },
      "source": [
        "# Compare two lists in Python\n"
      ],
      "execution_count": 0,
      "outputs": []
    },
    {
      "cell_type": "code",
      "metadata": {
        "id": "1aVfQvl9G1yO",
        "colab_type": "code",
        "colab": {}
      },
      "source": [
        "# Nested lists in Python\n"
      ],
      "execution_count": 0,
      "outputs": []
    },
    {
      "cell_type": "code",
      "metadata": {
        "id": "ApHqWybdHWxx",
        "colab_type": "code",
        "colab": {}
      },
      "source": [
        "#add new items to nested list\n"
      ],
      "execution_count": 0,
      "outputs": []
    },
    {
      "cell_type": "code",
      "metadata": {
        "id": "sZdkBe4FH1gK",
        "colab_type": "code",
        "colab": {}
      },
      "source": [
        "# get the index of an element contained in the list\n"
      ],
      "execution_count": 0,
      "outputs": []
    },
    {
      "cell_type": "code",
      "metadata": {
        "id": "kVTmFpAdIepD",
        "colab_type": "code",
        "colab": {}
      },
      "source": [
        ""
      ],
      "execution_count": 0,
      "outputs": []
    },
    {
      "cell_type": "markdown",
      "metadata": {
        "id": "kpQz4fomDVzP",
        "colab_type": "text"
      },
      "source": [
        "###**Problem #1**"
      ]
    },
    {
      "cell_type": "markdown",
      "metadata": {
        "id": "JK_X7IEkJDqL",
        "colab_type": "text"
      },
      "source": [
        "##**Python if...else Statement**"
      ]
    },
    {
      "cell_type": "markdown",
      "metadata": {
        "id": "MugAag-gJYF2",
        "colab_type": "text"
      },
      "source": [
        "Decision making is required when we want to execute a code only if a certain condition is satisfied.\n",
        "\n",
        "The if…elif…else statement is used in Python for decision making."
      ]
    },
    {
      "cell_type": "markdown",
      "metadata": {
        "id": "AJNIWDJqJe29",
        "colab_type": "text"
      },
      "source": [
        "**Python if Statement Syntax**\n",
        "\n",
        "\n",
        "\n",
        "```\n",
        "if test expression:\n",
        "    statement(s)\n",
        "```\n",
        "\n",
        "\n"
      ]
    },
    {
      "cell_type": "code",
      "metadata": {
        "id": "GDb5STH9Ddp5",
        "colab_type": "code",
        "colab": {}
      },
      "source": [
        "# If the number is positive, we print an appropriate message\n"
      ],
      "execution_count": 0,
      "outputs": []
    },
    {
      "cell_type": "markdown",
      "metadata": {
        "id": "tTEiJe4xJ56o",
        "colab_type": "text"
      },
      "source": [
        "**Syntax of if...else**\n",
        "\n",
        "\n",
        "```\n",
        "if test expression:\n",
        "    Body of if\n",
        "else:\n",
        "    Body of else\n",
        "```\n",
        "\n",
        "\n"
      ]
    },
    {
      "cell_type": "code",
      "metadata": {
        "id": "1pbw7WnrGAkQ",
        "colab_type": "code",
        "colab": {}
      },
      "source": [
        "# Program checks if the number is positive or negative\n",
        "# And displays an appropriate message\n",
        "\n"
      ],
      "execution_count": 0,
      "outputs": []
    },
    {
      "cell_type": "markdown",
      "metadata": {
        "id": "950I6CVLKJym",
        "colab_type": "text"
      },
      "source": [
        "**Syntax of if...elif...else**\n",
        "\n",
        "```\n",
        "if test expression:\n",
        "    Body of if\n",
        "elif test expression:\n",
        "    Body of elif\n",
        "else: \n",
        "    Body of else\n",
        "```\n",
        "\n",
        "\n"
      ]
    },
    {
      "cell_type": "code",
      "metadata": {
        "id": "RtetyDhLGJJH",
        "colab_type": "code",
        "colab": {}
      },
      "source": [
        "'''In this program, \n",
        "we check if the number is positive or\n",
        "negative or zero and \n",
        "display an appropriate message'''\n",
        "\n"
      ],
      "execution_count": 0,
      "outputs": []
    },
    {
      "cell_type": "markdown",
      "metadata": {
        "id": "4XJejHTwKgcK",
        "colab_type": "text"
      },
      "source": [
        "Python Nested if Example"
      ]
    },
    {
      "cell_type": "code",
      "metadata": {
        "id": "cGdAvbouKZF2",
        "colab_type": "code",
        "colab": {}
      },
      "source": [
        "'''In this program, we input a number\n",
        "check if the number is positive or\n",
        "negative or zero and display\n",
        "an appropriate message\n",
        "This time we use nested if statement'''\n",
        "\n"
      ],
      "execution_count": 0,
      "outputs": []
    },
    {
      "cell_type": "markdown",
      "metadata": {
        "id": "RANM0CNJLfWa",
        "colab_type": "text"
      },
      "source": [
        "### **Problem #2** "
      ]
    },
    {
      "cell_type": "markdown",
      "metadata": {
        "id": "_nIR4L5HMHno",
        "colab_type": "text"
      },
      "source": [
        "##**Python while loop**"
      ]
    },
    {
      "cell_type": "code",
      "metadata": {
        "id": "Gsb-OtkmKpcq",
        "colab_type": "code",
        "colab": {}
      },
      "source": [
        ""
      ],
      "execution_count": 0,
      "outputs": []
    },
    {
      "cell_type": "markdown",
      "metadata": {
        "id": "S8NN3PqcMMkE",
        "colab_type": "text"
      },
      "source": [
        "##**Python for loop**"
      ]
    },
    {
      "cell_type": "code",
      "metadata": {
        "id": "ofMUMMSmMRKG",
        "colab_type": "code",
        "colab": {}
      },
      "source": [
        ""
      ],
      "execution_count": 0,
      "outputs": []
    },
    {
      "cell_type": "markdown",
      "metadata": {
        "id": "TOYHGY7QMmam",
        "colab_type": "text"
      },
      "source": [
        "##**Python break, continue statement**"
      ]
    },
    {
      "cell_type": "code",
      "metadata": {
        "id": "wo8lQ5k9MpQU",
        "colab_type": "code",
        "colab": {}
      },
      "source": [
        ""
      ],
      "execution_count": 0,
      "outputs": []
    }
  ]
}